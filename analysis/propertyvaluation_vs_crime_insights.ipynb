﻿{
  "metadata": {
    "name": "Analytics Insights",
    "kernelspec": {
      "language": "scala",
      "name": "spark2-scala"
    },
    "language_info": {
      "codemirror_mode": "text/x-scala",
      "file_extension": ".scala",
      "mimetype": "text/x-scala",
      "name": "scala",
      "pygments_lexer": "scala"
    }
  },
  "nbformat": 4,
  "nbformat_minor": 2,
  "cells": [
    {
      "cell_type": "code",
      "execution_count": 0,
      "metadata": {
        "autoscroll": "auto"
      },
      "outputs": [],
      "source": "val propertyFilePath \u003d \"/user/lsj3272_nyu_edu/shared/property_valuation/\"\nval complaintsFilePath \u003d \"/user/lsj3272_nyu_edu/shared/complaints/\"\n\nval propertyDF \u003d spark.read\n  .option(\"header\", \"true\")\n  .option(\"multiLine\", \"true\")\n  .option(\"inferSchema\", \"true\")\n  .option(\"escape\", \"\\\"\")\n  .csv(propertyFilePath)\n  .withColumnRenamed(\"ZIP_CODE\", \"zipcode\")\n  \n  \nval complaintsDF \u003d spark.read\n  .option(\"header\", \"true\")\n  .option(\"multiLine\", \"true\")\n  .option(\"inferSchema\", \"true\")\n  .option(\"escape\", \"\\\"\")\n  .csv(complaintsFilePath)\n  .withColumnRenamed(\"boro_nm\", \"borough\")\n\nz.show(propertyDF)\nz.show(complaintsDF)\n"
    },
    {
      "cell_type": "code",
      "execution_count": 1,
      "metadata": {
        "autoscroll": "auto"
      },
      "outputs": [],
      "source": "propertyDF.printSchema\ncomplaintsDF.printSchema"
    },
    {
      "cell_type": "code",
      "execution_count": 2,
      "metadata": {
        "autoscroll": "auto"
      },
      "outputs": [],
      "source": "// Register dataframes as temporary views for Spark SQL queries\npropertyDF.createOrReplaceTempView(\"property_valuation\")\ncomplaintsDF.createOrReplaceTempView(\"complaints\")\n\n// Average property values per zip per year\nval averagePropertyValuesPerYearDF \u003d spark.sql(\n  \"\"\"\n  SELECT (YEAR - 1) AS YEAR,\n         zipcode,\n         count(*) as property_count,\n         AVG(CURACTTOT) AS average_actual_total_value,\n         AVG(CURACTLAND) AS average_actual_land_value\n  FROM property_valuation\n  GROUP BY YEAR, zipcode\n  \"\"\"\n)\n\nprint(\"Top 10 Zip Codes with Highest Average Property Total Value\")\nz.show(averagePropertyValuesPerYearDF.select(\"zipcode\", \"property_count\", \"average_actual_total_value\").where($\"YEAR\" \u003d\u003d\u003d 2022).orderBy(desc(\"average_actual_total_value\")).limit(10))\nprint(\"Top 10 Zip Codes with Highest Average Property Land Value\")\nz.show(averagePropertyValuesPerYearDF.select(\"zipcode\", \"property_count\", \"average_actual_land_value\").where($\"YEAR\" \u003d\u003d\u003d 2022).orderBy(desc(\"average_actual_land_value\")).limit(10))\n\nprint(\"Top 10 Zip Codes with Lowest Average Property Total Value\")\nz.show(averagePropertyValuesPerYearDF.select(\"zipcode\", \"property_count\", \"average_actual_total_value\").where($\"YEAR\" \u003d\u003d\u003d 2022).orderBy(asc(\"average_actual_total_value\")).limit(10))\nprint(\"Top 10 Zip Codes with Lowest Average Property Land Value\")\nz.show(averagePropertyValuesPerYearDF.select(\"zipcode\", \"property_count\", \"average_actual_land_value\").where($\"YEAR\" \u003d\u003d\u003d 2022).orderBy(asc(\"average_actual_land_value\")).limit(10))\n\n\n// Total complaints per zip per year\nval totalComplaintsByZipPerYearDF \u003d spark.sql(\n  \"\"\"\n  SELECT YEAR(rpt_dt) AS YEAR,\n         zipcode,\n         COUNT(*) AS total_complaints\n  FROM complaints\n  GROUP BY YEAR(rpt_dt), zipcode\n  \"\"\"\n)\n\n// Join property values and complaints dataframes and calculate correlation coefficients\nval correlationDF \u003d averagePropertyValuesPerYearDF\n  .join(totalComplaintsByZipPerYearDF, Seq(\"YEAR\", \"zipcode\"))\n  .groupBy(\"YEAR\")\n  .agg(\n    corr(\"average_actual_total_value\", \"total_complaints\").alias(\"correlation_total_value_complaints\"),\n    corr(\"average_actual_land_value\", \"total_complaints\").alias(\"correlation_land_value_complaints\")\n  )\n\nprint(\"Pearson Correlation Coefficient of Average Property Values vs Complaints Per Year Per Zipcode\")\nz.show(correlationDF)\n\n// Average property values per zip per year per borough\nval averagePropertyValuesPerYearPerBoroughDF \u003d spark.sql(\n  \"\"\"\n  SELECT (YEAR - 1) AS YEAR,\n         zipcode,\n         borough,\n         count(*) as property_count,\n         AVG(CURACTTOT) AS average_actual_total_value,\n         AVG(CURACTLAND) AS average_actual_land_value\n  FROM property_valuation\n  GROUP BY YEAR, zipcode, borough\n  \"\"\"\n)\n\n// Total complaints per zip per year per borough\nval totalComplaintsByZipPerYearPerBoroughDF \u003d spark.sql(\n  \"\"\"\n  SELECT YEAR(rpt_dt) AS YEAR,\n         zipcode,\n         COUNT(*) AS total_complaints\n  FROM complaints\n  GROUP BY YEAR(rpt_dt), zipcode, borough\n  \"\"\"\n)\n\n// Join property values and complaints dataframes and calculate correlation coefficients\nval boroughYearCorrelationDF \u003d averagePropertyValuesPerYearPerBoroughDF\n  .join(totalComplaintsByZipPerYearPerBoroughDF, Seq(\"YEAR\", \"zipcode\"))\n  .groupBy(\"BOROUGH\", \"YEAR\")\n  .agg(\n    corr(\"average_actual_total_value\", \"total_complaints\").alias(\"correlation_total_value_complaints\"),\n    corr(\"average_actual_land_value\", \"total_complaints\").alias(\"correlation_land_value_complaints\")\n  )\n  .orderBy(desc(\"BOROUGH\"))\n\nprint(\"Pearson Correlation Coefficient of Average Property Values vs Complaints Per Year Per Borough\")\nz.show(boroughYearCorrelationDF)"
    }
  ]
}